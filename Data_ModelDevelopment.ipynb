{
  "nbformat": 4,
  "nbformat_minor": 0,
  "metadata": {
    "colab": {
      "name": "Data ModelDevelopment.ipynb",
      "provenance": [],
      "authorship_tag": "ABX9TyOVwKgxA26hYpq9si5uxuom"
    },
    "kernelspec": {
      "name": "python3",
      "display_name": "Python 3"
    }
  },
  "cells": [
    {
      "cell_type": "markdown",
      "metadata": {
        "id": "ltosXWNq4SbG",
        "colab_type": "text"
      },
      "source": [
        "# Week 3 of IBM Advanced Data Science Capstone Project\n",
        "\n",
        "## For this section, I will apply simple predictive modeling using PySpark ML before using the algorithms in Python sci-kit learn library."
      ]
    },
    {
      "cell_type": "markdown",
      "metadata": {
        "id": "Dt74HHzV4STK",
        "colab_type": "text"
      },
      "source": [
        "### Import csv file from previous week\n"
      ]
    },
    {
      "cell_type": "code",
      "metadata": {
        "id": "TnCIZ_yW4Q4B",
        "colab_type": "code",
        "colab": {
          "base_uri": "https://localhost:8080/",
          "height": 214
        },
        "outputId": "899aa2e8-df7e-4644-ef94-a51163080feb"
      },
      "source": [
        "!wget https://raw.githubusercontent.com/aziz0519/Advanced-Data-Science-Capstone-Project/master/listing_model.csv"
      ],
      "execution_count": 17,
      "outputs": [
        {
          "output_type": "stream",
          "text": [
            "--2020-03-22 06:30:43--  https://raw.githubusercontent.com/aziz0519/Advanced-Data-Science-Capstone-Project/master/listing_model.csv\n",
            "Resolving raw.githubusercontent.com (raw.githubusercontent.com)... 151.101.0.133, 151.101.64.133, 151.101.128.133, ...\n",
            "Connecting to raw.githubusercontent.com (raw.githubusercontent.com)|151.101.0.133|:443... connected.\n",
            "HTTP request sent, awaiting response... 200 OK\n",
            "Length: 417650 (408K) [text/plain]\n",
            "Saving to: ‘listing_model.csv.2’\n",
            "\n",
            "\rlisting_model.csv.2   0%[                    ]       0  --.-KB/s               \rlisting_model.csv.2 100%[===================>] 407.86K  --.-KB/s    in 0.08s   \n",
            "\n",
            "2020-03-22 06:30:44 (5.10 MB/s) - ‘listing_model.csv.2’ saved [417650/417650]\n",
            "\n"
          ],
          "name": "stdout"
        }
      ]
    },
    {
      "cell_type": "code",
      "metadata": {
        "id": "aYVo_SdK43j1",
        "colab_type": "code",
        "colab": {}
      },
      "source": [
        "import pandas as pd\n",
        "import numpy as np\n",
        "import matplotlib.pyplot as plt\n",
        "import seaborn as sns\n",
        "%matplotlib inline"
      ],
      "execution_count": 0,
      "outputs": []
    },
    {
      "cell_type": "code",
      "metadata": {
        "id": "5ND9HaQZ43hI",
        "colab_type": "code",
        "colab": {
          "base_uri": "https://localhost:8080/",
          "height": 226
        },
        "outputId": "776b7ffd-0dd3-456f-ed92-09118d1669b2"
      },
      "source": [
        "data = pd.read_csv('listing_model.csv.2')\n",
        "data.head()"
      ],
      "execution_count": 20,
      "outputs": [
        {
          "output_type": "execute_result",
          "data": {
            "text/html": [
              "<div>\n",
              "<style scoped>\n",
              "    .dataframe tbody tr th:only-of-type {\n",
              "        vertical-align: middle;\n",
              "    }\n",
              "\n",
              "    .dataframe tbody tr th {\n",
              "        vertical-align: top;\n",
              "    }\n",
              "\n",
              "    .dataframe thead th {\n",
              "        text-align: right;\n",
              "    }\n",
              "</style>\n",
              "<table border=\"1\" class=\"dataframe\">\n",
              "  <thead>\n",
              "    <tr style=\"text-align: right;\">\n",
              "      <th></th>\n",
              "      <th>neighbourhood_group</th>\n",
              "      <th>neighbourhood</th>\n",
              "      <th>latitude</th>\n",
              "      <th>longitude</th>\n",
              "      <th>room_type</th>\n",
              "      <th>price</th>\n",
              "      <th>minimum_nights</th>\n",
              "      <th>number_of_reviews</th>\n",
              "      <th>calculated_host_listings_count</th>\n",
              "      <th>availability_365</th>\n",
              "      <th>distance_to_nearest_stn</th>\n",
              "    </tr>\n",
              "  </thead>\n",
              "  <tbody>\n",
              "    <tr>\n",
              "      <th>0</th>\n",
              "      <td>2</td>\n",
              "      <td>42</td>\n",
              "      <td>1.310995</td>\n",
              "      <td>103.79580</td>\n",
              "      <td>1</td>\n",
              "      <td>84</td>\n",
              "      <td>180</td>\n",
              "      <td>1</td>\n",
              "      <td>2</td>\n",
              "      <td>365</td>\n",
              "      <td>0.617939</td>\n",
              "    </tr>\n",
              "    <tr>\n",
              "      <th>1</th>\n",
              "      <td>0</td>\n",
              "      <td>6</td>\n",
              "      <td>1.332350</td>\n",
              "      <td>103.78521</td>\n",
              "      <td>1</td>\n",
              "      <td>80</td>\n",
              "      <td>90</td>\n",
              "      <td>18</td>\n",
              "      <td>1</td>\n",
              "      <td>365</td>\n",
              "      <td>0.397868</td>\n",
              "    </tr>\n",
              "    <tr>\n",
              "      <th>2</th>\n",
              "      <td>2</td>\n",
              "      <td>42</td>\n",
              "      <td>1.310995</td>\n",
              "      <td>103.79667</td>\n",
              "      <td>1</td>\n",
              "      <td>70</td>\n",
              "      <td>6</td>\n",
              "      <td>20</td>\n",
              "      <td>2</td>\n",
              "      <td>365</td>\n",
              "      <td>0.524388</td>\n",
              "    </tr>\n",
              "    <tr>\n",
              "      <th>3</th>\n",
              "      <td>1</td>\n",
              "      <td>37</td>\n",
              "      <td>1.345410</td>\n",
              "      <td>103.95712</td>\n",
              "      <td>1</td>\n",
              "      <td>207</td>\n",
              "      <td>1</td>\n",
              "      <td>20</td>\n",
              "      <td>8</td>\n",
              "      <td>365</td>\n",
              "      <td>0.486465</td>\n",
              "    </tr>\n",
              "    <tr>\n",
              "      <th>4</th>\n",
              "      <td>1</td>\n",
              "      <td>37</td>\n",
              "      <td>1.345670</td>\n",
              "      <td>103.95963</td>\n",
              "      <td>1</td>\n",
              "      <td>95</td>\n",
              "      <td>1</td>\n",
              "      <td>24</td>\n",
              "      <td>8</td>\n",
              "      <td>365</td>\n",
              "      <td>0.479073</td>\n",
              "    </tr>\n",
              "  </tbody>\n",
              "</table>\n",
              "</div>"
            ],
            "text/plain": [
              "   neighbourhood_group  ...  distance_to_nearest_stn\n",
              "0                    2  ...                 0.617939\n",
              "1                    0  ...                 0.397868\n",
              "2                    2  ...                 0.524388\n",
              "3                    1  ...                 0.486465\n",
              "4                    1  ...                 0.479073\n",
              "\n",
              "[5 rows x 11 columns]"
            ]
          },
          "metadata": {
            "tags": []
          },
          "execution_count": 20
        }
      ]
    },
    {
      "cell_type": "code",
      "metadata": {
        "id": "UdVh7rKA43eQ",
        "colab_type": "code",
        "colab": {
          "base_uri": "https://localhost:8080/",
          "height": 106
        },
        "outputId": "92410a30-0ce8-439a-d61b-f34c3ea740ad"
      },
      "source": [
        "data.columns"
      ],
      "execution_count": 21,
      "outputs": [
        {
          "output_type": "execute_result",
          "data": {
            "text/plain": [
              "Index(['neighbourhood_group', 'neighbourhood', 'latitude', 'longitude',\n",
              "       'room_type', 'price', 'minimum_nights', 'number_of_reviews',\n",
              "       'calculated_host_listings_count', 'availability_365',\n",
              "       'distance_to_nearest_stn'],\n",
              "      dtype='object')"
            ]
          },
          "metadata": {
            "tags": []
          },
          "execution_count": 21
        }
      ]
    },
    {
      "cell_type": "code",
      "metadata": {
        "id": "pNpbmmhH43cI",
        "colab_type": "code",
        "colab": {
          "base_uri": "https://localhost:8080/",
          "height": 35
        },
        "outputId": "e6f82d52-954d-4503-df46-18ad97ea67b3"
      },
      "source": [
        "#Drop columns that does not contain any number of reviews\n",
        "data_final = data[data.number_of_reviews > 0]\n",
        "data_final.shape"
      ],
      "execution_count": 22,
      "outputs": [
        {
          "output_type": "execute_result",
          "data": {
            "text/plain": [
              "(5117, 11)"
            ]
          },
          "metadata": {
            "tags": []
          },
          "execution_count": 22
        }
      ]
    },
    {
      "cell_type": "code",
      "metadata": {
        "id": "OMl-3Krr8ZNo",
        "colab_type": "code",
        "colab": {}
      },
      "source": [
        "from sklearn.preprocessing import StandardScaler, RobustScaler\n",
        "from sklearn.model_selection import train_test_split"
      ],
      "execution_count": 0,
      "outputs": []
    },
    {
      "cell_type": "code",
      "metadata": {
        "id": "wqXEII2U92LN",
        "colab_type": "code",
        "colab": {}
      },
      "source": [
        "X = data_final[['neighbourhood_group', 'neighbourhood', 'latitude', 'longitude',\n",
        "       'room_type', 'minimum_nights', 'number_of_reviews',\n",
        "       'calculated_host_listings_count', 'availability_365',\n",
        "       'distance_to_nearest_stn']]\n",
        "y = data_final['price']"
      ],
      "execution_count": 0,
      "outputs": []
    },
    {
      "cell_type": "code",
      "metadata": {
        "id": "jNvQx0uU92Ul",
        "colab_type": "code",
        "colab": {}
      },
      "source": [
        "sc = StandardScaler()\n",
        "X_sc = sc.fit_transform(X)"
      ],
      "execution_count": 0,
      "outputs": []
    }
  ]
}