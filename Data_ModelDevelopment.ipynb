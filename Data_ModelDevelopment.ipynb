{
  "nbformat": 4,
  "nbformat_minor": 0,
  "metadata": {
    "colab": {
      "name": "Data ModelDevelopment.ipynb",
      "provenance": [],
      "authorship_tag": "ABX9TyPRlJVgiR2wIVyppCY66e3v"
    },
    "kernelspec": {
      "name": "python3",
      "display_name": "Python 3"
    }
  },
  "cells": [
    {
      "cell_type": "markdown",
      "metadata": {
        "id": "ltosXWNq4SbG",
        "colab_type": "text"
      },
      "source": [
        "# Week 3 of IBM Advanced Data Science Capstone Project\n",
        "\n",
        "## For this section, I will apply simple predictive modeling using PySpark ML before using the algorithms in Python sci-kit learn library."
      ]
    },
    {
      "cell_type": "markdown",
      "metadata": {
        "id": "Dt74HHzV4STK",
        "colab_type": "text"
      },
      "source": [
        "### Import csv file from previous week\n"
      ]
    },
    {
      "cell_type": "code",
      "metadata": {
        "id": "TnCIZ_yW4Q4B",
        "colab_type": "code",
        "outputId": "5840f343-2235-4423-ceac-4bfa2d6894e5",
        "colab": {
          "base_uri": "https://localhost:8080/",
          "height": 214
        }
      },
      "source": [
        "!wget https://raw.githubusercontent.com/aziz0519/Advanced-Data-Science-Capstone-Project/master/listing_model.csv  "
      ],
      "execution_count": 1,
      "outputs": [
        {
          "output_type": "stream",
          "text": [
            "--2020-03-24 06:03:29--  https://raw.githubusercontent.com/aziz0519/Advanced-Data-Science-Capstone-Project/master/listing_model.csv\n",
            "Resolving raw.githubusercontent.com (raw.githubusercontent.com)... 151.101.0.133, 151.101.64.133, 151.101.128.133, ...\n",
            "Connecting to raw.githubusercontent.com (raw.githubusercontent.com)|151.101.0.133|:443... connected.\n",
            "HTTP request sent, awaiting response... 200 OK\n",
            "Length: 546564 (534K) [text/plain]\n",
            "Saving to: ‘listing_model.csv’\n",
            "\n",
            "\rlisting_model.csv     0%[                    ]       0  --.-KB/s               \rlisting_model.csv   100%[===================>] 533.75K  --.-KB/s    in 0.08s   \n",
            "\n",
            "2020-03-24 06:03:31 (6.25 MB/s) - ‘listing_model.csv’ saved [546564/546564]\n",
            "\n"
          ],
          "name": "stdout"
        }
      ]
    },
    {
      "cell_type": "code",
      "metadata": {
        "id": "aYVo_SdK43j1",
        "colab_type": "code",
        "colab": {}
      },
      "source": [
        "import pandas as pd\n",
        "import numpy as np\n",
        "import matplotlib.pyplot as plt\n",
        "import seaborn as sns\n",
        "%matplotlib inline"
      ],
      "execution_count": 0,
      "outputs": []
    },
    {
      "cell_type": "code",
      "metadata": {
        "id": "5ND9HaQZ43hI",
        "colab_type": "code",
        "outputId": "653b4127-826f-4be6-c39b-8d5a917e3d4f",
        "colab": {
          "base_uri": "https://localhost:8080/",
          "height": 226
        }
      },
      "source": [
        "data = pd.read_csv('listing_model.csv')\n",
        "data.head()"
      ],
      "execution_count": 3,
      "outputs": [
        {
          "output_type": "execute_result",
          "data": {
            "text/html": [
              "<div>\n",
              "<style scoped>\n",
              "    .dataframe tbody tr th:only-of-type {\n",
              "        vertical-align: middle;\n",
              "    }\n",
              "\n",
              "    .dataframe tbody tr th {\n",
              "        vertical-align: top;\n",
              "    }\n",
              "\n",
              "    .dataframe thead th {\n",
              "        text-align: right;\n",
              "    }\n",
              "</style>\n",
              "<table border=\"1\" class=\"dataframe\">\n",
              "  <thead>\n",
              "    <tr style=\"text-align: right;\">\n",
              "      <th></th>\n",
              "      <th>neighbourhood_group</th>\n",
              "      <th>neighbourhood</th>\n",
              "      <th>latitude</th>\n",
              "      <th>longitude</th>\n",
              "      <th>room_type</th>\n",
              "      <th>price</th>\n",
              "      <th>minimum_nights</th>\n",
              "      <th>number_of_reviews</th>\n",
              "      <th>calculated_host_listings_count</th>\n",
              "      <th>availability_365</th>\n",
              "      <th>distance_to_nearest_stn</th>\n",
              "    </tr>\n",
              "  </thead>\n",
              "  <tbody>\n",
              "    <tr>\n",
              "      <th>0</th>\n",
              "      <td>2</td>\n",
              "      <td>42</td>\n",
              "      <td>1.31100</td>\n",
              "      <td>103.79580</td>\n",
              "      <td>1</td>\n",
              "      <td>4.430817</td>\n",
              "      <td>180</td>\n",
              "      <td>1</td>\n",
              "      <td>0.693147</td>\n",
              "      <td>365</td>\n",
              "      <td>-0.481366</td>\n",
              "    </tr>\n",
              "    <tr>\n",
              "      <th>1</th>\n",
              "      <td>0</td>\n",
              "      <td>6</td>\n",
              "      <td>1.33235</td>\n",
              "      <td>103.78521</td>\n",
              "      <td>1</td>\n",
              "      <td>4.382027</td>\n",
              "      <td>90</td>\n",
              "      <td>18</td>\n",
              "      <td>0.000000</td>\n",
              "      <td>365</td>\n",
              "      <td>-0.921634</td>\n",
              "    </tr>\n",
              "    <tr>\n",
              "      <th>2</th>\n",
              "      <td>2</td>\n",
              "      <td>42</td>\n",
              "      <td>1.31100</td>\n",
              "      <td>103.79667</td>\n",
              "      <td>1</td>\n",
              "      <td>4.248495</td>\n",
              "      <td>6</td>\n",
              "      <td>20</td>\n",
              "      <td>0.693147</td>\n",
              "      <td>365</td>\n",
              "      <td>-0.645523</td>\n",
              "    </tr>\n",
              "    <tr>\n",
              "      <th>3</th>\n",
              "      <td>1</td>\n",
              "      <td>37</td>\n",
              "      <td>1.34541</td>\n",
              "      <td>103.95712</td>\n",
              "      <td>1</td>\n",
              "      <td>5.332719</td>\n",
              "      <td>1</td>\n",
              "      <td>20</td>\n",
              "      <td>2.079442</td>\n",
              "      <td>365</td>\n",
              "      <td>-0.720591</td>\n",
              "    </tr>\n",
              "    <tr>\n",
              "      <th>4</th>\n",
              "      <td>1</td>\n",
              "      <td>37</td>\n",
              "      <td>1.34567</td>\n",
              "      <td>103.95963</td>\n",
              "      <td>1</td>\n",
              "      <td>4.553877</td>\n",
              "      <td>1</td>\n",
              "      <td>24</td>\n",
              "      <td>2.079442</td>\n",
              "      <td>365</td>\n",
              "      <td>-0.735902</td>\n",
              "    </tr>\n",
              "  </tbody>\n",
              "</table>\n",
              "</div>"
            ],
            "text/plain": [
              "   neighbourhood_group  ...  distance_to_nearest_stn\n",
              "0                    2  ...                -0.481366\n",
              "1                    0  ...                -0.921634\n",
              "2                    2  ...                -0.645523\n",
              "3                    1  ...                -0.720591\n",
              "4                    1  ...                -0.735902\n",
              "\n",
              "[5 rows x 11 columns]"
            ]
          },
          "metadata": {
            "tags": []
          },
          "execution_count": 3
        }
      ]
    },
    {
      "cell_type": "code",
      "metadata": {
        "id": "UdVh7rKA43eQ",
        "colab_type": "code",
        "outputId": "42e7f1ff-d684-409c-bbbe-83703310ca81",
        "colab": {
          "base_uri": "https://localhost:8080/",
          "height": 106
        }
      },
      "source": [
        "data.columns"
      ],
      "execution_count": 4,
      "outputs": [
        {
          "output_type": "execute_result",
          "data": {
            "text/plain": [
              "Index(['neighbourhood_group', 'neighbourhood', 'latitude', 'longitude',\n",
              "       'room_type', 'price', 'minimum_nights', 'number_of_reviews',\n",
              "       'calculated_host_listings_count', 'availability_365',\n",
              "       'distance_to_nearest_stn'],\n",
              "      dtype='object')"
            ]
          },
          "metadata": {
            "tags": []
          },
          "execution_count": 4
        }
      ]
    },
    {
      "cell_type": "code",
      "metadata": {
        "id": "OsWNE6fsKaur",
        "colab_type": "code",
        "colab": {
          "base_uri": "https://localhost:8080/",
          "height": 231
        },
        "outputId": "80bdc4c8-f557-43e9-f678-d88653d438c4"
      },
      "source": [
        "data.isnull().sum()"
      ],
      "execution_count": 5,
      "outputs": [
        {
          "output_type": "execute_result",
          "data": {
            "text/plain": [
              "neighbourhood_group               0\n",
              "neighbourhood                     0\n",
              "latitude                          0\n",
              "longitude                         0\n",
              "room_type                         0\n",
              "price                             0\n",
              "minimum_nights                    0\n",
              "number_of_reviews                 0\n",
              "calculated_host_listings_count    0\n",
              "availability_365                  0\n",
              "distance_to_nearest_stn           0\n",
              "dtype: int64"
            ]
          },
          "metadata": {
            "tags": []
          },
          "execution_count": 5
        }
      ]
    },
    {
      "cell_type": "markdown",
      "metadata": {
        "id": "Y_1XpV9uKmqk",
        "colab_type": "text"
      },
      "source": [
        "### Training of model\n",
        "\n",
        "##### Key features of model training processs\n",
        "\n",
        "* <strong>  Cross Validation </strong> : Using a 10-fold cross validation\n",
        "* <strong> On each run of cross validation fit 6 models </strong> : Ridge, SVR, Lasso, ElasticNet and Random Forest and Light GBM\n",
        "* <strong> Stacking </strong> : Train a meta using StackedCVRegreesor optimized used XGboost\n",
        "* <strong> Blending </strong> : The model trained will overfit the training data hence blending the models together will obtain robust predictions of the Airbnb property prices\n"
      ]
    },
    {
      "cell_type": "code",
      "metadata": {
        "id": "OMl-3Krr8ZNo",
        "colab_type": "code",
        "colab": {}
      },
      "source": [
        "from sklearn.ensemble import RandomForestRegressor,AdaBoostRegressor, GradientBoostingRegressor\n",
        "from sklearn.kernel_ridge import KernelRidge\n",
        "from sklearn.linear_model import Ridge, RidgeCV\n",
        "from sklearn.linear_model import ElasticNet, ElasticNetCV\n",
        "from sklearn.svm import SVR\n",
        "from mlxtend.regressor import StackingCVRegressor\n",
        "import lightgbm as lgb\n",
        "from lightgbm import LGBMRegressor\n",
        "from xgboost import XGBRegressor"
      ],
      "execution_count": 0,
      "outputs": []
    },
    {
      "cell_type": "code",
      "metadata": {
        "id": "5ln_8UztZkxE",
        "colab_type": "code",
        "colab": {}
      },
      "source": [
        "from sklearn.model_selection import KFold , cross_val_score\n",
        "from sklearn.metrics import mean_squared_error, mean_squared_log_error\n",
        "from sklearn.pipeline import make_pipeline\n",
        "from sklearn.preprocessing import scale, StandardScaler, RobustScaler\n",
        "from sklearn.decomposition import PCA"
      ],
      "execution_count": 0,
      "outputs": []
    },
    {
      "cell_type": "markdown",
      "metadata": {
        "id": "10RT8tfRORpj",
        "colab_type": "text"
      },
      "source": [
        "#### Set up cross-validation and define error metrics\n"
      ]
    },
    {
      "cell_type": "code",
      "metadata": {
        "id": "RUW8ALgsOQyZ",
        "colab_type": "code",
        "colab": {}
      },
      "source": [
        "kfold = KFold(n_splits=10, random_state=42, shuffle=True)"
      ],
      "execution_count": 0,
      "outputs": []
    },
    {
      "cell_type": "code",
      "metadata": {
        "id": "cv24HdIhOg2r",
        "colab_type": "code",
        "colab": {}
      },
      "source": [
        "def rmsle(y, y_pred):\n",
        "  return np.sqrt(mean_squared_error(y,y_pred))\n",
        "\n",
        "def rmsecv(model, X=X):\n",
        "  rmse = np.sqrt(-cross_val_score(model, X, X_train,scoring=\"neg_mean_squared_error\",cv=kfold))"
      ],
      "execution_count": 0,
      "outputs": []
    },
    {
      "cell_type": "code",
      "metadata": {
        "id": "o5wkPndjOgtq",
        "colab_type": "code",
        "colab": {}
      },
      "source": [
        "from sklearn.model_selection import train_test_split"
      ],
      "execution_count": 0,
      "outputs": []
    },
    {
      "cell_type": "code",
      "metadata": {
        "id": "wqXEII2U92LN",
        "colab_type": "code",
        "colab": {}
      },
      "source": [
        "X = data[['neighbourhood_group', 'neighbourhood', 'latitude', 'longitude',\n",
        "       'room_type', 'minimum_nights', 'number_of_reviews',\n",
        "       'calculated_host_listings_count', 'availability_365',\n",
        "       'distance_to_nearest_stn']]\n",
        "y = data['price']"
      ],
      "execution_count": 0,
      "outputs": []
    },
    {
      "cell_type": "code",
      "metadata": {
        "id": "NWAuLX27N2wj",
        "colab_type": "code",
        "colab": {}
      },
      "source": [
        "X_train, X_test , y_train , y_test = train_test_split(X,y, test_size=0.33, random_state=42)"
      ],
      "execution_count": 0,
      "outputs": []
    },
    {
      "cell_type": "code",
      "metadata": {
        "id": "8_zgi8eTQM01",
        "colab_type": "code",
        "colab": {}
      },
      "source": [
        "#LightGBM\n",
        "lgb_model = LGBMRegressor(objective='regression',num_leaves=5, learning_rate=0.01,n_estimators=1000,max_bin=200,min_sum_hessian_in_leaf=11,verbose=-1, random_state=42)"
      ],
      "execution_count": 0,
      "outputs": []
    },
    {
      "cell_type": "code",
      "metadata": {
        "id": "B4Fz3dq_QMs8",
        "colab_type": "code",
        "colab": {}
      },
      "source": [
        "#SVR \n",
        "svr_model = make_pipeline(RobustScaler(),SVR(C=20,epsilon=0.008,gamma=0.0003))"
      ],
      "execution_count": 0,
      "outputs": []
    },
    {
      "cell_type": "code",
      "metadata": {
        "id": "cchDm5bPRXF0",
        "colab_type": "code",
        "colab": {}
      },
      "source": [
        "#Random Forest Regressor\n",
        "rf_model = RandomForestRegressor(n_estimators=1000,max_depth=15,min_samples_split=5,min_samples_leaf=5,max_features=None,oob_score=True,random_state=42)"
      ],
      "execution_count": 0,
      "outputs": []
    },
    {
      "cell_type": "code",
      "metadata": {
        "id": "-jVWX2noR1W5",
        "colab_type": "code",
        "colab": {}
      },
      "source": [
        "#ElasticNet Model\n",
        "eln_model = ElasticNet()"
      ],
      "execution_count": 0,
      "outputs": []
    },
    {
      "cell_type": "code",
      "metadata": {
        "id": "elCV8y8COTKK",
        "colab_type": "code",
        "colab": {}
      },
      "source": [
        "y_pred = lr.predict(X_test)"
      ],
      "execution_count": 0,
      "outputs": []
    },
    {
      "cell_type": "code",
      "metadata": {
        "id": "JqGJ5-pfOheh",
        "colab_type": "code",
        "outputId": "49a80e3d-7953-4b03-83af-6b54fb4e4aa4",
        "colab": {
          "base_uri": "https://localhost:8080/",
          "height": 231
        }
      },
      "source": [
        "y_test"
      ],
      "execution_count": 0,
      "outputs": [
        {
          "output_type": "execute_result",
          "data": {
            "text/plain": [
              "8006    168\n",
              "737     130\n",
              "3014    101\n",
              "7512    120\n",
              "3105     60\n",
              "       ... \n",
              "4845    150\n",
              "6803    160\n",
              "3148    600\n",
              "6187    101\n",
              "3948    129\n",
              "Name: price, Length: 2654, dtype: int64"
            ]
          },
          "metadata": {
            "tags": []
          },
          "execution_count": 18
        }
      ]
    },
    {
      "cell_type": "code",
      "metadata": {
        "id": "flUhofvpOWoj",
        "colab_type": "code",
        "outputId": "51f772f2-6383-43b5-b2fd-aaccdcba6aa5",
        "colab": {
          "base_uri": "https://localhost:8080/",
          "height": 206
        }
      },
      "source": [
        "prediction = lr.predict(X_test)\n",
        "error_airbnb = pd.DataFrame({\n",
        "        'Actual Values': np.array(y_test).flatten(),\n",
        "        'Predicted Values': prediction.flatten()})\n",
        "error_airbnb.head()"
      ],
      "execution_count": 0,
      "outputs": [
        {
          "output_type": "execute_result",
          "data": {
            "text/html": [
              "<div>\n",
              "<style scoped>\n",
              "    .dataframe tbody tr th:only-of-type {\n",
              "        vertical-align: middle;\n",
              "    }\n",
              "\n",
              "    .dataframe tbody tr th {\n",
              "        vertical-align: top;\n",
              "    }\n",
              "\n",
              "    .dataframe thead th {\n",
              "        text-align: right;\n",
              "    }\n",
              "</style>\n",
              "<table border=\"1\" class=\"dataframe\">\n",
              "  <thead>\n",
              "    <tr style=\"text-align: right;\">\n",
              "      <th></th>\n",
              "      <th>Actual Values</th>\n",
              "      <th>Predicted Values</th>\n",
              "    </tr>\n",
              "  </thead>\n",
              "  <tbody>\n",
              "    <tr>\n",
              "      <th>0</th>\n",
              "      <td>168</td>\n",
              "      <td>171.345585</td>\n",
              "    </tr>\n",
              "    <tr>\n",
              "      <th>1</th>\n",
              "      <td>130</td>\n",
              "      <td>190.093650</td>\n",
              "    </tr>\n",
              "    <tr>\n",
              "      <th>2</th>\n",
              "      <td>101</td>\n",
              "      <td>167.762828</td>\n",
              "    </tr>\n",
              "    <tr>\n",
              "      <th>3</th>\n",
              "      <td>120</td>\n",
              "      <td>254.822666</td>\n",
              "    </tr>\n",
              "    <tr>\n",
              "      <th>4</th>\n",
              "      <td>60</td>\n",
              "      <td>213.719478</td>\n",
              "    </tr>\n",
              "  </tbody>\n",
              "</table>\n",
              "</div>"
            ],
            "text/plain": [
              "   Actual Values  Predicted Values\n",
              "0            168        171.345585\n",
              "1            130        190.093650\n",
              "2            101        167.762828\n",
              "3            120        254.822666\n",
              "4             60        213.719478"
            ]
          },
          "metadata": {
            "tags": []
          },
          "execution_count": 24
        }
      ]
    }
  ]
}