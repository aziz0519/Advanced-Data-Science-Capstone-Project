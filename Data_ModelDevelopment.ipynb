{
  "nbformat": 4,
  "nbformat_minor": 0,
  "metadata": {
    "colab": {
      "name": "Data ModelDevelopment.ipynb",
      "provenance": [],
      "authorship_tag": "ABX9TyM5/PEPZ/yiIItq7dpTX1zs"
    },
    "kernelspec": {
      "name": "python3",
      "display_name": "Python 3"
    }
  },
  "cells": [
    {
      "cell_type": "markdown",
      "metadata": {
        "id": "ltosXWNq4SbG",
        "colab_type": "text"
      },
      "source": [
        "# Week 3 of IBM Advanced Data Science Capstone Project\n",
        "\n",
        "## For this section, I will apply simple predictive modeling using PySpark ML before using the algorithms in Python sci-kit learn library."
      ]
    },
    {
      "cell_type": "markdown",
      "metadata": {
        "id": "Dt74HHzV4STK",
        "colab_type": "text"
      },
      "source": [
        "### Import csv file from previous week\n"
      ]
    },
    {
      "cell_type": "code",
      "metadata": {
        "id": "TnCIZ_yW4Q4B",
        "colab_type": "code",
        "outputId": "ffcaa3f5-413d-4d85-81c5-4aa448fa2758",
        "colab": {
          "base_uri": "https://localhost:8080/",
          "height": 214
        }
      },
      "source": [
        "!wget https://raw.githubusercontent.com/aziz0519/Advanced-Data-Science-Capstone-Project/master/listing_model.csv"
      ],
      "execution_count": 1,
      "outputs": [
        {
          "output_type": "stream",
          "text": [
            "--2020-03-22 12:23:06--  https://raw.githubusercontent.com/aziz0519/Advanced-Data-Science-Capstone-Project/master/listing_model.csv\n",
            "Resolving raw.githubusercontent.com (raw.githubusercontent.com)... 151.101.0.133, 151.101.64.133, 151.101.128.133, ...\n",
            "Connecting to raw.githubusercontent.com (raw.githubusercontent.com)|151.101.0.133|:443... connected.\n",
            "HTTP request sent, awaiting response... 200 OK\n",
            "Length: 417650 (408K) [text/plain]\n",
            "Saving to: ‘listing_model.csv’\n",
            "\n",
            "listing_model.csv   100%[===================>] 407.86K  --.-KB/s    in 0.06s   \n",
            "\n",
            "2020-03-22 12:23:11 (6.78 MB/s) - ‘listing_model.csv’ saved [417650/417650]\n",
            "\n"
          ],
          "name": "stdout"
        }
      ]
    },
    {
      "cell_type": "code",
      "metadata": {
        "id": "aYVo_SdK43j1",
        "colab_type": "code",
        "colab": {}
      },
      "source": [
        "import pandas as pd\n",
        "import numpy as np\n",
        "import matplotlib.pyplot as plt\n",
        "import seaborn as sns\n",
        "%matplotlib inline"
      ],
      "execution_count": 0,
      "outputs": []
    },
    {
      "cell_type": "code",
      "metadata": {
        "id": "5ND9HaQZ43hI",
        "colab_type": "code",
        "outputId": "03e0d6cd-9105-4115-c1cd-cf6c88ffae7f",
        "colab": {
          "base_uri": "https://localhost:8080/",
          "height": 226
        }
      },
      "source": [
        "data = pd.read_csv('listing_model.csv')\n",
        "data.head()"
      ],
      "execution_count": 4,
      "outputs": [
        {
          "output_type": "execute_result",
          "data": {
            "text/html": [
              "<div>\n",
              "<style scoped>\n",
              "    .dataframe tbody tr th:only-of-type {\n",
              "        vertical-align: middle;\n",
              "    }\n",
              "\n",
              "    .dataframe tbody tr th {\n",
              "        vertical-align: top;\n",
              "    }\n",
              "\n",
              "    .dataframe thead th {\n",
              "        text-align: right;\n",
              "    }\n",
              "</style>\n",
              "<table border=\"1\" class=\"dataframe\">\n",
              "  <thead>\n",
              "    <tr style=\"text-align: right;\">\n",
              "      <th></th>\n",
              "      <th>neighbourhood_group</th>\n",
              "      <th>neighbourhood</th>\n",
              "      <th>latitude</th>\n",
              "      <th>longitude</th>\n",
              "      <th>room_type</th>\n",
              "      <th>price</th>\n",
              "      <th>minimum_nights</th>\n",
              "      <th>number_of_reviews</th>\n",
              "      <th>calculated_host_listings_count</th>\n",
              "      <th>availability_365</th>\n",
              "      <th>distance_to_nearest_stn</th>\n",
              "    </tr>\n",
              "  </thead>\n",
              "  <tbody>\n",
              "    <tr>\n",
              "      <th>0</th>\n",
              "      <td>2</td>\n",
              "      <td>42</td>\n",
              "      <td>1.310995</td>\n",
              "      <td>103.79580</td>\n",
              "      <td>1</td>\n",
              "      <td>84</td>\n",
              "      <td>180</td>\n",
              "      <td>1</td>\n",
              "      <td>2</td>\n",
              "      <td>365</td>\n",
              "      <td>0.617939</td>\n",
              "    </tr>\n",
              "    <tr>\n",
              "      <th>1</th>\n",
              "      <td>0</td>\n",
              "      <td>6</td>\n",
              "      <td>1.332350</td>\n",
              "      <td>103.78521</td>\n",
              "      <td>1</td>\n",
              "      <td>80</td>\n",
              "      <td>90</td>\n",
              "      <td>18</td>\n",
              "      <td>1</td>\n",
              "      <td>365</td>\n",
              "      <td>0.397868</td>\n",
              "    </tr>\n",
              "    <tr>\n",
              "      <th>2</th>\n",
              "      <td>2</td>\n",
              "      <td>42</td>\n",
              "      <td>1.310995</td>\n",
              "      <td>103.79667</td>\n",
              "      <td>1</td>\n",
              "      <td>70</td>\n",
              "      <td>6</td>\n",
              "      <td>20</td>\n",
              "      <td>2</td>\n",
              "      <td>365</td>\n",
              "      <td>0.524388</td>\n",
              "    </tr>\n",
              "    <tr>\n",
              "      <th>3</th>\n",
              "      <td>1</td>\n",
              "      <td>37</td>\n",
              "      <td>1.345410</td>\n",
              "      <td>103.95712</td>\n",
              "      <td>1</td>\n",
              "      <td>207</td>\n",
              "      <td>1</td>\n",
              "      <td>20</td>\n",
              "      <td>8</td>\n",
              "      <td>365</td>\n",
              "      <td>0.486465</td>\n",
              "    </tr>\n",
              "    <tr>\n",
              "      <th>4</th>\n",
              "      <td>1</td>\n",
              "      <td>37</td>\n",
              "      <td>1.345670</td>\n",
              "      <td>103.95963</td>\n",
              "      <td>1</td>\n",
              "      <td>95</td>\n",
              "      <td>1</td>\n",
              "      <td>24</td>\n",
              "      <td>8</td>\n",
              "      <td>365</td>\n",
              "      <td>0.479073</td>\n",
              "    </tr>\n",
              "  </tbody>\n",
              "</table>\n",
              "</div>"
            ],
            "text/plain": [
              "   neighbourhood_group  ...  distance_to_nearest_stn\n",
              "0                    2  ...                 0.617939\n",
              "1                    0  ...                 0.397868\n",
              "2                    2  ...                 0.524388\n",
              "3                    1  ...                 0.486465\n",
              "4                    1  ...                 0.479073\n",
              "\n",
              "[5 rows x 11 columns]"
            ]
          },
          "metadata": {
            "tags": []
          },
          "execution_count": 4
        }
      ]
    },
    {
      "cell_type": "code",
      "metadata": {
        "id": "UdVh7rKA43eQ",
        "colab_type": "code",
        "outputId": "c1a8c727-2b0c-4ed8-b76f-40e7ba3f9a75",
        "colab": {
          "base_uri": "https://localhost:8080/",
          "height": 106
        }
      },
      "source": [
        "data.columns"
      ],
      "execution_count": 5,
      "outputs": [
        {
          "output_type": "execute_result",
          "data": {
            "text/plain": [
              "Index(['neighbourhood_group', 'neighbourhood', 'latitude', 'longitude',\n",
              "       'room_type', 'price', 'minimum_nights', 'number_of_reviews',\n",
              "       'calculated_host_listings_count', 'availability_365',\n",
              "       'distance_to_nearest_stn'],\n",
              "      dtype='object')"
            ]
          },
          "metadata": {
            "tags": []
          },
          "execution_count": 5
        }
      ]
    },
    {
      "cell_type": "code",
      "metadata": {
        "id": "pNpbmmhH43cI",
        "colab_type": "code",
        "colab": {}
      },
      "source": [
        "#Drop columns that does not contain any number of reviews\n",
        "#data_final = data[data.number_of_reviews > 0]\n",
        "#data_final.shape"
      ],
      "execution_count": 0,
      "outputs": []
    },
    {
      "cell_type": "code",
      "metadata": {
        "id": "OMl-3Krr8ZNo",
        "colab_type": "code",
        "colab": {}
      },
      "source": [
        "from sklearn.preprocessing import StandardScaler, RobustScaler\n",
        "from sklearn.model_selection import train_test_split\n",
        "from sklearn.linear_model import LinearRegression"
      ],
      "execution_count": 0,
      "outputs": []
    },
    {
      "cell_type": "code",
      "metadata": {
        "id": "QbRbhm-tPYqa",
        "colab_type": "code",
        "colab": {}
      },
      "source": [
        "from sklearn.ensemble import RandomForestRegressor , GradientBoostingRegressor, AdaBoostRegressor, BaggingRegressor\n",
        "from sklearn.linear_model import Ridge, RidgeCV , ElasticNet , ElasticNetCV\n",
        "from sklearn.svm import SVR   "
      ],
      "execution_count": 0,
      "outputs": []
    },
    {
      "cell_type": "code",
      "metadata": {
        "id": "5ln_8UztZkxE",
        "colab_type": "code",
        "colab": {}
      },
      "source": [
        "from lightgbm import LGBMRegressor\n",
        "from xgboost import XGBRegressor\n",
        "from mlxtend.regressor import StackingCVRegressor\n",
        "from sklearn.model_selection import KFold ,cross_val_score\n",
        "from sklearn.metrics import f1_score , roc_auc_score"
      ],
      "execution_count": 0,
      "outputs": []
    },
    {
      "cell_type": "code",
      "metadata": {
        "id": "wqXEII2U92LN",
        "colab_type": "code",
        "colab": {}
      },
      "source": [
        "X = data[['neighbourhood_group', 'neighbourhood', 'latitude', 'longitude',\n",
        "       'room_type', 'minimum_nights', 'number_of_reviews',\n",
        "       'calculated_host_listings_count', 'availability_365',\n",
        "       'distance_to_nearest_stn']]\n",
        "y = data['price']"
      ],
      "execution_count": 0,
      "outputs": []
    },
    {
      "cell_type": "code",
      "metadata": {
        "id": "jNvQx0uU92Ul",
        "colab_type": "code",
        "colab": {}
      },
      "source": [
        "sc = StandardScaler()\n",
        "X_sc = sc.fit_transform(X)"
      ],
      "execution_count": 0,
      "outputs": []
    },
    {
      "cell_type": "code",
      "metadata": {
        "id": "NWAuLX27N2wj",
        "colab_type": "code",
        "colab": {}
      },
      "source": [
        "X_train, X_test , y_train , y_test = train_test_split(X,y, test_size=0.33, random_state=42)"
      ],
      "execution_count": 0,
      "outputs": []
    },
    {
      "cell_type": "code",
      "metadata": {
        "id": "Gg5z2dYmOHOb",
        "colab_type": "code",
        "colab": {
          "base_uri": "https://localhost:8080/",
          "height": 35
        },
        "outputId": "11f1ce5e-669a-4bf6-dd5c-924b827662e3"
      },
      "source": [
        "lr = LinearRegression()\n",
        "lr.fit(X_train, y_train)"
      ],
      "execution_count": 12,
      "outputs": [
        {
          "output_type": "execute_result",
          "data": {
            "text/plain": [
              "LinearRegression(copy_X=True, fit_intercept=True, n_jobs=None, normalize=False)"
            ]
          },
          "metadata": {
            "tags": []
          },
          "execution_count": 12
        }
      ]
    },
    {
      "cell_type": "code",
      "metadata": {
        "id": "elCV8y8COTKK",
        "colab_type": "code",
        "colab": {}
      },
      "source": [
        "y_pred = lr.predict(X_test)"
      ],
      "execution_count": 0,
      "outputs": []
    },
    {
      "cell_type": "code",
      "metadata": {
        "id": "JqGJ5-pfOheh",
        "colab_type": "code",
        "colab": {
          "base_uri": "https://localhost:8080/",
          "height": 231
        },
        "outputId": "49a80e3d-7953-4b03-83af-6b54fb4e4aa4"
      },
      "source": [
        "y_test"
      ],
      "execution_count": 18,
      "outputs": [
        {
          "output_type": "execute_result",
          "data": {
            "text/plain": [
              "8006    168\n",
              "737     130\n",
              "3014    101\n",
              "7512    120\n",
              "3105     60\n",
              "       ... \n",
              "4845    150\n",
              "6803    160\n",
              "3148    600\n",
              "6187    101\n",
              "3948    129\n",
              "Name: price, Length: 2654, dtype: int64"
            ]
          },
          "metadata": {
            "tags": []
          },
          "execution_count": 18
        }
      ]
    },
    {
      "cell_type": "code",
      "metadata": {
        "id": "flUhofvpOWoj",
        "colab_type": "code",
        "colab": {
          "base_uri": "https://localhost:8080/",
          "height": 206
        },
        "outputId": "51f772f2-6383-43b5-b2fd-aaccdcba6aa5"
      },
      "source": [
        "prediction = lr.predict(X_test)\n",
        "error_airbnb = pd.DataFrame({\n",
        "        'Actual Values': np.array(y_test).flatten(),\n",
        "        'Predicted Values': prediction.flatten()})\n",
        "error_airbnb.head()"
      ],
      "execution_count": 24,
      "outputs": [
        {
          "output_type": "execute_result",
          "data": {
            "text/html": [
              "<div>\n",
              "<style scoped>\n",
              "    .dataframe tbody tr th:only-of-type {\n",
              "        vertical-align: middle;\n",
              "    }\n",
              "\n",
              "    .dataframe tbody tr th {\n",
              "        vertical-align: top;\n",
              "    }\n",
              "\n",
              "    .dataframe thead th {\n",
              "        text-align: right;\n",
              "    }\n",
              "</style>\n",
              "<table border=\"1\" class=\"dataframe\">\n",
              "  <thead>\n",
              "    <tr style=\"text-align: right;\">\n",
              "      <th></th>\n",
              "      <th>Actual Values</th>\n",
              "      <th>Predicted Values</th>\n",
              "    </tr>\n",
              "  </thead>\n",
              "  <tbody>\n",
              "    <tr>\n",
              "      <th>0</th>\n",
              "      <td>168</td>\n",
              "      <td>171.345585</td>\n",
              "    </tr>\n",
              "    <tr>\n",
              "      <th>1</th>\n",
              "      <td>130</td>\n",
              "      <td>190.093650</td>\n",
              "    </tr>\n",
              "    <tr>\n",
              "      <th>2</th>\n",
              "      <td>101</td>\n",
              "      <td>167.762828</td>\n",
              "    </tr>\n",
              "    <tr>\n",
              "      <th>3</th>\n",
              "      <td>120</td>\n",
              "      <td>254.822666</td>\n",
              "    </tr>\n",
              "    <tr>\n",
              "      <th>4</th>\n",
              "      <td>60</td>\n",
              "      <td>213.719478</td>\n",
              "    </tr>\n",
              "  </tbody>\n",
              "</table>\n",
              "</div>"
            ],
            "text/plain": [
              "   Actual Values  Predicted Values\n",
              "0            168        171.345585\n",
              "1            130        190.093650\n",
              "2            101        167.762828\n",
              "3            120        254.822666\n",
              "4             60        213.719478"
            ]
          },
          "metadata": {
            "tags": []
          },
          "execution_count": 24
        }
      ]
    }
  ]
}