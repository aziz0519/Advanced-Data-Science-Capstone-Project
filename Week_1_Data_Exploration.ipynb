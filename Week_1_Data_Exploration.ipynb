{
  "nbformat": 4,
  "nbformat_minor": 0,
  "metadata": {
    "colab": {
      "name": "Data Exploration.ipynb",
      "provenance": [],
      "authorship_tag": "ABX9TyM3o4Zd5cp7OpN3S5dQImgN"
    },
    "kernelspec": {
      "name": "python3",
      "display_name": "Python 3"
    }
  },
  "cells": [
    {
      "cell_type": "markdown",
      "metadata": {
        "id": "tsHPY7ssHIg6",
        "colab_type": "text"
      },
      "source": [
        "# Week 1 of IBM Advanced Data Science Capstone Project\n",
        "\n",
        "### In this project, I will be creating a predictive model to predict the prices of AirBnb services in Singapore as of 27 Feb 2020. The dataset is obtained from the Airbnb website as below:\n",
        "### http://data.insideairbnb.com/singapore/sg/singapore/2020-02-27/visualisations/listings.csv\n",
        "\n",
        "### I will be using the supervised learning techniques as taught in the 2nd course of this specialization in particular alogrithms such as linear regression, random forest and gradient boosted decision trees. "
      ]
    },
    {
      "cell_type": "markdown",
      "metadata": {
        "id": "lXHEHK6hIl0i",
        "colab_type": "text"
      },
      "source": [
        "# **Exploratory Data Analysis of dataset**"
      ]
    },
    {
      "cell_type": "code",
      "metadata": {
        "id": "NybfWdWMHFuP",
        "colab_type": "code",
        "colab": {
          "base_uri": "https://localhost:8080/",
          "height": 214
        },
        "outputId": "1a6a1d89-f89e-430f-e720-f7d48091cdf4"
      },
      "source": [
        "!wget https://raw.githubusercontent.com/aziz0519/Advanced-Data-Science-Capstone-Project/master/listings.csv"
      ],
      "execution_count": 1,
      "outputs": [
        {
          "output_type": "stream",
          "text": [
            "--2020-03-14 03:44:25--  https://raw.githubusercontent.com/aziz0519/Advanced-Data-Science-Capstone-Project/master/listings.csv\n",
            "Resolving raw.githubusercontent.com (raw.githubusercontent.com)... 151.101.0.133, 151.101.64.133, 151.101.128.133, ...\n",
            "Connecting to raw.githubusercontent.com (raw.githubusercontent.com)|151.101.0.133|:443... connected.\n",
            "HTTP request sent, awaiting response... 200 OK\n",
            "Length: 1188761 (1.1M) [text/plain]\n",
            "Saving to: ‘listings.csv’\n",
            "\n",
            "\rlistings.csv          0%[                    ]       0  --.-KB/s               \rlistings.csv        100%[===================>]   1.13M  --.-KB/s    in 0.06s   \n",
            "\n",
            "2020-03-14 03:44:25 (19.3 MB/s) - ‘listings.csv’ saved [1188761/1188761]\n",
            "\n"
          ],
          "name": "stdout"
        }
      ]
    },
    {
      "cell_type": "code",
      "metadata": {
        "id": "1kcJiHu6O8qY",
        "colab_type": "code",
        "colab": {
          "base_uri": "https://localhost:8080/",
          "height": 269
        },
        "outputId": "5d5387f4-7ec5-40b3-9535-3c4a3b32fb80"
      },
      "source": [
        "!pip install pyspark"
      ],
      "execution_count": 13,
      "outputs": [
        {
          "output_type": "stream",
          "text": [
            "Collecting pyspark\n",
            "\u001b[?25l  Downloading https://files.pythonhosted.org/packages/9a/5a/271c416c1c2185b6cb0151b29a91fff6fcaed80173c8584ff6d20e46b465/pyspark-2.4.5.tar.gz (217.8MB)\n",
            "\u001b[K     |████████████████████████████████| 217.8MB 60kB/s \n",
            "\u001b[?25hCollecting py4j==0.10.7\n",
            "\u001b[?25l  Downloading https://files.pythonhosted.org/packages/e3/53/c737818eb9a7dc32a7cd4f1396e787bd94200c3997c72c1dbe028587bd76/py4j-0.10.7-py2.py3-none-any.whl (197kB)\n",
            "\u001b[K     |████████████████████████████████| 204kB 40.1MB/s \n",
            "\u001b[?25hBuilding wheels for collected packages: pyspark\n",
            "  Building wheel for pyspark (setup.py) ... \u001b[?25l\u001b[?25hdone\n",
            "  Created wheel for pyspark: filename=pyspark-2.4.5-py2.py3-none-any.whl size=218257927 sha256=fdecfad84931aae5f5a781ee1278026a8b4610b533df0de8d9d12cb49f98c895\n",
            "  Stored in directory: /root/.cache/pip/wheels/bf/db/04/61d66a5939364e756eb1c1be4ec5bdce6e04047fc7929a3c3c\n",
            "Successfully built pyspark\n",
            "Installing collected packages: py4j, pyspark\n",
            "Successfully installed py4j-0.10.7 pyspark-2.4.5\n"
          ],
          "name": "stdout"
        }
      ]
    },
    {
      "cell_type": "code",
      "metadata": {
        "id": "jqgnqQxPPKX2",
        "colab_type": "code",
        "colab": {}
      },
      "source": [
        "from pyspark import SparkContext, SparkConf\n",
        "from pyspark.sql import SQLContext, SparkSession\n",
        "from pyspark.sql.types import StructType, StructField, DoubleType, IntegerType, StringType\n",
        "sc = SparkContext.getOrCreate(SparkConf().setMaster(\"local[*]\"))\n",
        "from pyspark.sql import SparkSession\n",
        "spark = SparkSession \\\n",
        "    .builder \\\n",
        "    .getOrCreate()"
      ],
      "execution_count": 0,
      "outputs": []
    },
    {
      "cell_type": "code",
      "metadata": {
        "id": "LvKO41MGPVxK",
        "colab_type": "code",
        "colab": {
          "base_uri": "https://localhost:8080/",
          "height": 35
        },
        "outputId": "79f3c3b4-0665-4acf-8e3d-5a044c60d166"
      },
      "source": [
        "spark.version"
      ],
      "execution_count": 15,
      "outputs": [
        {
          "output_type": "execute_result",
          "data": {
            "text/plain": [
              "'2.4.5'"
            ]
          },
          "metadata": {
            "tags": []
          },
          "execution_count": 15
        }
      ]
    },
    {
      "cell_type": "code",
      "metadata": {
        "id": "YBpx44JsPdzs",
        "colab_type": "code",
        "colab": {}
      },
      "source": [
        "rdd = sc.textFile('listings.csv')\n",
        "df = spark.read.csv(rdd,header=True)"
      ],
      "execution_count": 0,
      "outputs": []
    },
    {
      "cell_type": "code",
      "metadata": {
        "id": "58z08EyVP3l1",
        "colab_type": "code",
        "colab": {
          "base_uri": "https://localhost:8080/",
          "height": 502
        },
        "outputId": "8b0f71bf-280d-4a33-9c59-de785eaa32d9"
      },
      "source": [
        "df.show()"
      ],
      "execution_count": 17,
      "outputs": [
        {
          "output_type": "stream",
          "text": [
            "+------+--------------------+-------+-------------+-------------------+-------------+--------+---------+------------+-----+--------------+-----------------+-----------+-----------------+------------------------------+----------------+\n",
            "|    id|                name|host_id|    host_name|neighbourhood_group|neighbourhood|latitude|longitude|   room_type|price|minimum_nights|number_of_reviews|last_review|reviews_per_month|calculated_host_listings_count|availability_365|\n",
            "+------+--------------------+-------+-------------+-------------------+-------------+--------+---------+------------+-----+--------------+-----------------+-----------+-----------------+------------------------------+----------------+\n",
            "| 49091|COZICOMFORT LONG ...| 266763|    Francesca|       North Region|    Woodlands| 1.44255| 103.7958|Private room|   84|           180|                1| 2013-10-21|             0.01|                             2|             365|\n",
            "| 50646|Pleasant Room alo...| 227796|      Sujatha|     Central Region|  Bukit Timah| 1.33235|103.78521|Private room|   80|            90|               18| 2014-12-26|             0.25|                             1|             365|\n",
            "| 56334|         COZICOMFORT| 266763|    Francesca|       North Region|    Woodlands| 1.44246|103.79667|Private room|   70|             6|               20| 2015-10-01|             0.19|                             2|             365|\n",
            "| 71609|Ensuite Room (Roo...| 367042|      Belinda|        East Region|     Tampines| 1.34541|103.95712|Private room|  207|             1|               20| 2020-01-17|             0.20|                             8|             365|\n",
            "| 71896|B&B  Room 1 near ...| 367042|      Belinda|        East Region|     Tampines| 1.34567|103.95963|Private room|   95|             1|               24| 2019-10-13|             0.23|                             8|             365|\n",
            "| 71903|Room 2-near Airpo...| 367042|      Belinda|        East Region|     Tampines| 1.34702|103.96103|Private room|  105|             1|               48| 2020-01-09|             0.45|                             8|             358|\n",
            "| 71907|3rd level Jumbo r...| 367042|      Belinda|        East Region|     Tampines| 1.34348|103.96337|Private room|  209|             1|               29| 2020-01-11|             0.27|                             8|             174|\n",
            "|241503|\"Long stay at The...|1017645|       Bianca|        East Region|        Bedok| 1.32391|103.91277|Private room|   52|            90|              176| 2020-02-06|             1.78|                             4|             248|\n",
            "|241508|\"Long stay at The...|1017645|       Bianca|        East Region|        Bedok| 1.32391|103.91277|Private room|   54|            90|              199| 2019-09-21|             1.96|                             4|             357|\n",
            "|241510|\"Long stay at The...|1017645|       Bianca|        East Region|        Bedok| 1.32391|103.91277|Private room|   40|            90|              236| 2019-07-31|             2.38|                             4|             330|\n",
            "|275343|Conveniently loca...|1439258|K2 Guesthouse|     Central Region|  Bukit Merah| 1.28875|103.80814|Private room|   49|            90|               19| 2019-10-17|             0.23|                            45|             315|\n",
            "|275344|15 mins to Outram...|1439258|K2 Guesthouse|     Central Region|  Bukit Merah| 1.28837|103.81099|Private room|   40|            90|               11| 2019-11-28|             0.12|                            45|             328|\n",
            "|294281|5 mins walk from ...|1521514|    Elizabeth|     Central Region|       Newton| 1.31125|103.83816|Private room|   63|             2|              133| 2020-01-21|             1.35|                             6|             365|\n",
            "|301247|Nice room with pr...|1552002|        Rahul|     Central Region|      Geylang| 1.31724|103.88958|Private room|   40|            10|              103| 2019-08-09|             1.33|                             1|              89|\n",
            "|324945|20 Mins to Sentos...|1439258|K2 Guesthouse|     Central Region|  Bukit Merah| 1.28976|103.80896|Private room|   45|            90|               14| 2019-09-28|             0.15|                            45|             272|\n",
            "|330089|Accomo@ REDHILL-I...|1439258|K2 Guesthouse|     Central Region|  Bukit Merah| 1.28677|103.81244|Private room|   40|            90|               10| 2019-04-27|             0.13|                            45|             362|\n",
            "|330095|10 mins to Redhil...|1439258|K2 Guesthouse|     Central Region|  Bukit Merah| 1.28537|103.81087|Private room|   39|           180|                3| 2016-08-22|             0.04|                            45|             336|\n",
            "|344803|Budget short stay...| 367042|      Belinda|        East Region|     Tampines| 1.34943|103.95951|Private room|   49|             2|               58| 2020-02-10|             0.60|                             8|             364|\n",
            "|355955|Double room in an...|1759905|       Aresha|     Central Region|      Geylang|  1.3142|103.90232|Private room|   80|            90|                0|       null|             null|                             1|             174|\n",
            "|369141|5mins from Newton...|1521514|    Elizabeth|     Central Region|       Newton|  1.3115|103.83759|Private room|   60|             2|               92| 2020-01-04|             1.18|                             6|             351|\n",
            "+------+--------------------+-------+-------------+-------------------+-------------+--------+---------+------------+-----+--------------+-----------------+-----------+-----------------+------------------------------+----------------+\n",
            "only showing top 20 rows\n",
            "\n"
          ],
          "name": "stdout"
        }
      ]
    },
    {
      "cell_type": "code",
      "metadata": {
        "id": "6rnROW4FQiZa",
        "colab_type": "code",
        "colab": {
          "base_uri": "https://localhost:8080/",
          "height": 502
        },
        "outputId": "f4ae4954-cd3a-4d8a-bf6d-e5427f4162f2"
      },
      "source": [
        "#Choose variables which are relevant to the project\n",
        "df1 = df[['name','host_name','neighbourhood_group','neighbourhood','latitude','longitude','room_type','price','minimum_nights','number_of_reviews','calculated_host_listings_count','availability_365']]\n",
        "df1.show()"
      ],
      "execution_count": 20,
      "outputs": [
        {
          "output_type": "stream",
          "text": [
            "+--------------------+-------------+-------------------+-------------+--------+---------+------------+-----+--------------+-----------------+------------------------------+----------------+\n",
            "|                name|    host_name|neighbourhood_group|neighbourhood|latitude|longitude|   room_type|price|minimum_nights|number_of_reviews|calculated_host_listings_count|availability_365|\n",
            "+--------------------+-------------+-------------------+-------------+--------+---------+------------+-----+--------------+-----------------+------------------------------+----------------+\n",
            "|COZICOMFORT LONG ...|    Francesca|       North Region|    Woodlands| 1.44255| 103.7958|Private room|   84|           180|                1|                             2|             365|\n",
            "|Pleasant Room alo...|      Sujatha|     Central Region|  Bukit Timah| 1.33235|103.78521|Private room|   80|            90|               18|                             1|             365|\n",
            "|         COZICOMFORT|    Francesca|       North Region|    Woodlands| 1.44246|103.79667|Private room|   70|             6|               20|                             2|             365|\n",
            "|Ensuite Room (Roo...|      Belinda|        East Region|     Tampines| 1.34541|103.95712|Private room|  207|             1|               20|                             8|             365|\n",
            "|B&B  Room 1 near ...|      Belinda|        East Region|     Tampines| 1.34567|103.95963|Private room|   95|             1|               24|                             8|             365|\n",
            "|Room 2-near Airpo...|      Belinda|        East Region|     Tampines| 1.34702|103.96103|Private room|  105|             1|               48|                             8|             358|\n",
            "|3rd level Jumbo r...|      Belinda|        East Region|     Tampines| 1.34348|103.96337|Private room|  209|             1|               29|                             8|             174|\n",
            "|\"Long stay at The...|       Bianca|        East Region|        Bedok| 1.32391|103.91277|Private room|   52|            90|              176|                             4|             248|\n",
            "|\"Long stay at The...|       Bianca|        East Region|        Bedok| 1.32391|103.91277|Private room|   54|            90|              199|                             4|             357|\n",
            "|\"Long stay at The...|       Bianca|        East Region|        Bedok| 1.32391|103.91277|Private room|   40|            90|              236|                             4|             330|\n",
            "|Conveniently loca...|K2 Guesthouse|     Central Region|  Bukit Merah| 1.28875|103.80814|Private room|   49|            90|               19|                            45|             315|\n",
            "|15 mins to Outram...|K2 Guesthouse|     Central Region|  Bukit Merah| 1.28837|103.81099|Private room|   40|            90|               11|                            45|             328|\n",
            "|5 mins walk from ...|    Elizabeth|     Central Region|       Newton| 1.31125|103.83816|Private room|   63|             2|              133|                             6|             365|\n",
            "|Nice room with pr...|        Rahul|     Central Region|      Geylang| 1.31724|103.88958|Private room|   40|            10|              103|                             1|              89|\n",
            "|20 Mins to Sentos...|K2 Guesthouse|     Central Region|  Bukit Merah| 1.28976|103.80896|Private room|   45|            90|               14|                            45|             272|\n",
            "|Accomo@ REDHILL-I...|K2 Guesthouse|     Central Region|  Bukit Merah| 1.28677|103.81244|Private room|   40|            90|               10|                            45|             362|\n",
            "|10 mins to Redhil...|K2 Guesthouse|     Central Region|  Bukit Merah| 1.28537|103.81087|Private room|   39|           180|                3|                            45|             336|\n",
            "|Budget short stay...|      Belinda|        East Region|     Tampines| 1.34943|103.95951|Private room|   49|             2|               58|                             8|             364|\n",
            "|Double room in an...|       Aresha|     Central Region|      Geylang|  1.3142|103.90232|Private room|   80|            90|                0|                             1|             174|\n",
            "|5mins from Newton...|    Elizabeth|     Central Region|       Newton|  1.3115|103.83759|Private room|   60|             2|               92|                             6|             351|\n",
            "+--------------------+-------------+-------------------+-------------+--------+---------+------------+-----+--------------+-----------------+------------------------------+----------------+\n",
            "only showing top 20 rows\n",
            "\n"
          ],
          "name": "stdout"
        }
      ]
    }
  ]
}